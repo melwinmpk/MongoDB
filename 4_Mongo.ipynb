{
 "cells": [
  {
   "cell_type": "markdown",
   "id": "ce4c2469",
   "metadata": {},
   "source": [
    "## Importing Data from a file\n",
    "\n",
    "<p>Melwin remember you are supposed to download the content from this link <br>\n",
    "https://www.mongodb.com/try/download/database-tools <br>\n",
    "and copy the mongoimport.exe from the downloaded content and paste it in the bin folder of the Mongodb</p>\n",
    "\n",
    "<pre>\n",
    "-d: Specifies what database to use. We used the demo database.\n",
    "-c: Specifies what collection to use. We used a sal collection.\n",
    "--type: Specifies the type of file to import. json, csv, or tsv. We are using csv\n",
    "--headerline: Specifies that the first row in our csv file should be the field names.\n",
    "--drop: Specifies that we want to drop the collection before importing documents to avoid\n",
    "duplicate documents.\n",
    "</pre>\n",
    "\n",
    "### Syntax\n",
    "<pre>\n",
    "mongoimport -d < database_name > -c < collection_name > --type < file_format > --file < location_of_the_file > --headerline --drop\n",
    "    \n",
    "    ex\n",
    "    mongoimport -d demo2 -c sal --type csv --file \"C:\\Users\\Futurense\\Documents\\Futurense Notes\\MongoDB By Rajeev-20220309T062930Z-001\\MongoDB By Rajeev\\Salary.csv\"  --headerline --drop\n",
    "</pre>"
   ]
  },
  {
   "cell_type": "code",
   "execution_count": null,
   "id": "aac796ae",
   "metadata": {},
   "outputs": [],
   "source": []
  }
 ],
 "metadata": {
  "kernelspec": {
   "display_name": "Python 3 (ipykernel)",
   "language": "python",
   "name": "python3"
  },
  "language_info": {
   "codemirror_mode": {
    "name": "ipython",
    "version": 3
   },
   "file_extension": ".py",
   "mimetype": "text/x-python",
   "name": "python",
   "nbconvert_exporter": "python",
   "pygments_lexer": "ipython3",
   "version": "3.9.7"
  }
 },
 "nbformat": 4,
 "nbformat_minor": 5
}
