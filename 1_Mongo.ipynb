{
 "cells": [
  {
   "cell_type": "markdown",
   "id": "47780c53",
   "metadata": {},
   "source": [
    "### What is MongoDB?\n",
    "<p>\n",
    "    MongoDB is a NoSQL cross-platform, open-source, document oriented database written in C++.<br>\n",
    "    It is a document-based, general-purpose, distributed database with scalability and flexibility.<br>\n",
    "    It doesn’t use tables and rows to store its data, but instead collections of documents.<br>\n",
    "    MongoDB is a schema-less database, so we don’t need to specify the number or type of columns before inserting\n",
    "our data.\n",
    "</p>"
   ]
  },
  {
   "cell_type": "markdown",
   "id": "a5e0cb82",
   "metadata": {},
   "source": [
    "### Object that can be compared as in MongoDB and SQL \n",
    "\n",
    "<table>\n",
    "    <tr>\n",
    "        <th>SQL server</th>\n",
    "        <th>MongoDB</th>\n",
    "    </tr>\n",
    "    <tr>\n",
    "        <td>Data Base</td>\n",
    "        <td>Data Base</td>    \n",
    "    </tr>\n",
    "    <tr>\n",
    "        <td>Table</td>\n",
    "        <td>Collection</td>    \n",
    "    </tr>\n",
    "    <tr>\n",
    "        <td>Row</td>\n",
    "        <td>Document</td>    \n",
    "    </tr>\n",
    "    <tr>\n",
    "        <td>Column</td>\n",
    "        <td>Field</td>    \n",
    "    </tr>\n",
    "</table>"
   ]
  },
  {
   "cell_type": "markdown",
   "id": "d8ff0af0",
   "metadata": {},
   "source": [
    "### Key Features of Mongo Db\n",
    "<ul>\n",
    "<li>Ad-hoc Queries - Queries which are not known while designing the structure</li>\n",
    "<li>Aggregation – perform a operation on the grouped data</li>\n",
    "<li>Schema Less Database – different documents can have different fields in the\n",
    "same collection</li>\n",
    "<li>Document oriented – the data is stored in the form of documents which is\n",
    "identified with a unique ID.</li>\n",
    "<li>Indexing - index the data to improve the search query performance</li>\n",
    "<li>High Performance – Provides high availability, scalability & better query\n",
    "response</li>\n",
    "<li>Grid FS – stores the large data in to different documents</li>\n",
    "<li>Sharding – partition the very large data into smaller parts known as shards</li>\n",
    "<li>Replication - creates a copy of the database on multiple machines which\n",
    "increases the availability & accessibility</li>\n",
    "</ul>"
   ]
  },
  {
   "cell_type": "code",
   "execution_count": null,
   "id": "e0389cbb",
   "metadata": {},
   "outputs": [],
   "source": []
  }
 ],
 "metadata": {
  "kernelspec": {
   "display_name": "Python 3 (ipykernel)",
   "language": "python",
   "name": "python3"
  },
  "language_info": {
   "codemirror_mode": {
    "name": "ipython",
    "version": 3
   },
   "file_extension": ".py",
   "mimetype": "text/x-python",
   "name": "python",
   "nbconvert_exporter": "python",
   "pygments_lexer": "ipython3",
   "version": "3.9.7"
  }
 },
 "nbformat": 4,
 "nbformat_minor": 5
}
