{
 "cells": [
  {
   "cell_type": "raw",
   "id": "bdf1c1f5",
   "metadata": {},
   "source": [
    "• Import the emp & salary csv files and perform\n",
    "the below actions on the data:\n",
    "• List the documents of Managers having salary\n",
    "more than 100000.\n",
    "• List the documents of employees from either IT\n",
    "or ADMIN team.\n",
    "• Remove the documents of MIS employees"
   ]
  },
  {
   "cell_type": "code",
   "execution_count": null,
   "id": "c9ca5dc1",
   "metadata": {},
   "outputs": [],
   "source": [
    "## Import the emp & salary csv files and perform the below actions on the data:\n",
    "\n",
    "mongoimport -d learning -c emp --type csv --file \"C:\\Users\\Futurense\\Documents\\Futurense Notes\\MongoDB By Rajeev-20220309T062930Z-001\\MongoDB By Rajeev\\EMP.CSV\" --headerline --drop\n",
    "\n",
    "mongoimport -d learning -c sal --type csv --file \"C:\\Users\\Futurense\\Documents\\Futurense Notes\\MongoDB By Rajeev-20220309T062930Z-001\\MongoDB By Rajeev\\Salary.csv\"  --headerline --drop"
   ]
  },
  {
   "cell_type": "code",
   "execution_count": null,
   "id": "000190ae",
   "metadata": {},
   "outputs": [],
   "source": [
    "## List the documents of Managers having salary more than 100000.\n",
    "\n",
    "db.sal.find({$and : [{\"DESI\":\"Manager\"},{\"SALARY\":{$gt:100000}}]})"
   ]
  },
  {
   "cell_type": "code",
   "execution_count": null,
   "id": "3923607e",
   "metadata": {},
   "outputs": [],
   "source": [
    "## List the documents of employees from either IT or ADMIN team.\n",
    "\n",
    "db.sal.find( {\n",
    "    $or : [\n",
    "        {\"DEPT\":\"IT\"},\n",
    "        {\"DEPT\":\"ADMIN\"}\n",
    "    ]\n",
    "}).pretty()"
   ]
  },
  {
   "cell_type": "code",
   "execution_count": null,
   "id": "988dae2c",
   "metadata": {},
   "outputs": [],
   "source": [
    "## Remove the documents of TEMP employees\n",
    "\n",
    "db.sal.deleteMany({\"DEPT\":\"MIS\"});"
   ]
  }
 ],
 "metadata": {
  "kernelspec": {
   "display_name": "Python 3 (ipykernel)",
   "language": "python",
   "name": "python3"
  },
  "language_info": {
   "codemirror_mode": {
    "name": "ipython",
    "version": 3
   },
   "file_extension": ".py",
   "mimetype": "text/x-python",
   "name": "python",
   "nbconvert_exporter": "python",
   "pygments_lexer": "ipython3",
   "version": "3.9.7"
  }
 },
 "nbformat": 4,
 "nbformat_minor": 5
}
