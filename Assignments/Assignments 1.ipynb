{
 "cells": [
  {
   "cell_type": "raw",
   "id": "322d513f",
   "metadata": {},
   "source": [
    "• Create a database demo\n",
    "• Create a EMP collection.\n",
    "• Insert 8 documents containing in EMP collection\n",
    "containing eid, name, city, doj, dept, desi\n",
    "• Display the documents in formatted manner.\n",
    "• Show the documents containing “HR” dept.\n",
    "• Show the documents for “OPS” managers.\n",
    "• Promote all the associates as Sr.Associates"
   ]
  },
  {
   "cell_type": "code",
   "execution_count": null,
   "id": "6fae026a",
   "metadata": {},
   "outputs": [],
   "source": [
    "# Create a database demo\n",
    "use demo\n",
    "\n",
    "# Create a EMP collection.\n",
    "\n",
    "db.createCollection(\"EMP\")\n",
    "\n",
    "# Insert 8 documents containing in EMP collection containing eid, name, city, doj, dept, desi\n",
    "db.EMP.insert([\n",
    "    {\"eid\":1,\"name\":\"anto1\",\"city\":\"ban\",\"doj\":\"today\",\"dept\":\"IT\",\"desi\":\"SSE\"},\n",
    "    {\"eid\":2,\"name\":\"anto2\",\"city\":\"ban\",\"doj\":\"today\",\"dept\":\"IT\",\"desi\":\"SSE\"},\n",
    "    {\"eid\":3,\"name\":\"anto3\",\"city\":\"ban\",\"doj\":\"today\",\"dept\":\"IT\",\"desi\":\"SE\"},\n",
    "    {\"eid\":4,\"name\":\"ant4\",\"city\":\"ban\",\"doj\":\"today\",\"dept\":\"OPS\",\"desi\":\"Manager\"},\n",
    "    {\"eid\":5,\"name\":\"anto5\",\"city\":\"ban\",\"doj\":\"today\",\"dept\":\"HR\",\"desi\":\"SE\"},\n",
    "    {\"eid\":6,\"name\":\"anto6\",\"city\":\"ban\",\"doj\":\"today\",\"dept\":\"OPS\",\"desi\":\"SE\"},\n",
    "    {\"eid\":7,\"name\":\"anto7\",\"city\":\"ban\",\"doj\":\"today\",\"dept\":\"IT\",\"desi\":\"SE\"},\n",
    "    {\"eid\":8,\"name\":\"anto8\",\"city\":\"ban\",\"doj\":\"today\",\"dept\":\"HR\",\"desi\":\"SE\"},\n",
    "])\n",
    "\n",
    "# Display the documents in formatted manner.\n",
    "\n",
    "db.EMP.find().pretty()\n",
    "\n",
    "# Show the documents containing “HR” dept.\n",
    "\n",
    "db.EMP.find({\"dept\":\"HR\"}).pretty()\n",
    "\n",
    "# Show the documents for “OPS” managers.\n",
    "db.EMP.find({\"dept\":\"OPS\",\"desi\":\"Manager\"}).pretty()\n",
    "\n",
    "# Promote all the SE as SSE\n",
    "db.EMP.updateMany({\"desi\":\"SE\"},{$set:{\"desi\":\"SSE\"}})\n"
   ]
  }
 ],
 "metadata": {
  "kernelspec": {
   "display_name": "Python 3 (ipykernel)",
   "language": "python",
   "name": "python3"
  },
  "language_info": {
   "codemirror_mode": {
    "name": "ipython",
    "version": 3
   },
   "file_extension": ".py",
   "mimetype": "text/x-python",
   "name": "python",
   "nbconvert_exporter": "python",
   "pygments_lexer": "ipython3",
   "version": "3.9.7"
  }
 },
 "nbformat": 4,
 "nbformat_minor": 5
}
