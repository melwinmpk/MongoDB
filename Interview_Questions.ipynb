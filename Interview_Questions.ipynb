{
 "cells": [
  {
   "cell_type": "markdown",
   "id": "8c0b22b1",
   "metadata": {},
   "source": [
    "### How to get all the Field ID from the Collection\n",
    "\n",
    "https://stackoverflow.com/questions/2298870/get-names-of-all-keys-in-the-collection"
   ]
  },
  {
   "cell_type": "code",
   "execution_count": null,
   "id": "09513e88",
   "metadata": {},
   "outputs": [],
   "source": []
  }
 ],
 "metadata": {
  "kernelspec": {
   "display_name": "Python 3 (ipykernel)",
   "language": "python",
   "name": "python3"
  },
  "language_info": {
   "codemirror_mode": {
    "name": "ipython",
    "version": 3
   },
   "file_extension": ".py",
   "mimetype": "text/x-python",
   "name": "python",
   "nbconvert_exporter": "python",
   "pygments_lexer": "ipython3",
   "version": "3.9.7"
  }
 },
 "nbformat": 4,
 "nbformat_minor": 5
}
