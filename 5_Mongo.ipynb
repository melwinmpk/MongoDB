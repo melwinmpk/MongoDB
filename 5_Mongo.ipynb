{
 "cells": [
  {
   "cell_type": "markdown",
   "id": "26d04759",
   "metadata": {},
   "source": [
    "## Aggregating Documents\n",
    "\n",
    "\n",
    "### Syntax \n",
    "\n",
    "<pre>\n",
    "    db.COLLECTION_NAME.aggregate([AGGREGATE_OPERATION])\n",
    "</pre>\n",
    "\n",
    "Example\n",
    "\n",
    "<pre>\n",
    "    db.sal.aggregate([{$group: {_id: \"$DEPT\", TC: {$sum: \"$SALARY\"}}}])\n",
    "    \n",
    "    Output:\n",
    "    { \"_id\" : \"TEMP\", \"TC\" : 835000 }\n",
    "    { \"_id\" : \"mis\", \"TC\" : 153767 }\n",
    "    { \"_id\" : \"OPS\", \"TC\" : 2269422 }\n",
    "    { \"_id\" : \"HR\", \"TC\" : 1129662 }\n",
    "    { \"_id\" : \"IT\", \"TC\" : 393511 }\n",
    "    { \"_id\" : \"ADMIN\", \"TC\" : 657798 }\n",
    "    \n",
    "</pre>\n",
    "\n",
    "<pre>\n",
    "    db.salary.aggregate(\n",
    "                            [\n",
    "                            {$group :\n",
    "                                {\n",
    "                                 _id : \"$DEPT\",\n",
    "                                 TotalCost :{$sum : \"$SALARY\"},\n",
    "                                 Avgsal :{$avg : \"$SALARY\"},\n",
    "                                 Minsal :{$min : \"$SALARY\"},\n",
    "                                 Maxsal :{$max : \"$SALARY\"}\n",
    "                                }\n",
    "                            }]\n",
    "                        ); \n",
    "                        \n",
    "    Output:\n",
    "    \n",
    "    { \"_id\" : \"HR\", \"TotalCost\" : 1129662, \"Avgsal\" : 125518, \"Minsal\" : 51500, \"Maxsal\" : 298918 }\n",
    "    { \"_id\" : \"mis\", \"TotalCost\" : 153767, \"Avgsal\" : 153767, \"Minsal\" : 153767, \"Maxsal\" : 153767 }\n",
    "    { \"_id\" : \"IT\", \"TotalCost\" : 393511, \"Avgsal\" : 65585.16666666667, \"Minsal\" : 44650, \"Maxsal\" : 111461 }\n",
    "    { \"_id\" : \"ADMIN\", \"TotalCost\" : 657798, \"Avgsal\" : 73088.66666666667, \"Minsal\" : 47000, \"Maxsal\" : 130748 }\n",
    "    { \"_id\" : \"TEMP\", \"TotalCost\" : 835000, \"Avgsal\" : 139166.66666666666, \"Minsal\" : 50000, \"Maxsal\" : 520000 }\n",
    "    { \"_id\" : \"OPS\", \"TotalCost\" : 2269422, \"Avgsal\" : 151294.8, \"Minsal\" : 55000, \"Maxsal\" : \"NULL\" }\n",
    "</pre>"
   ]
  },
  {
   "cell_type": "markdown",
   "id": "0170f5d4",
   "metadata": {},
   "source": [
    "## Atomic Operations\n",
    "To maintain atomicity it is recommended to keep all the related information\n",
    "which is updated together in a single embedded Document.\n",
    "\n",
    "<pre>\n",
    "    db.order.Insert(\n",
    "                        {\n",
    "                            \"_id\" : 1,\n",
    "                            \"pdesc\" : \"Dell Mouse\",\n",
    "                            \"category\" : \"IT\" ,\n",
    "                            \"Totalstk\": 10,\n",
    "                            \"balanceStk\" : 8,\n",
    "                            “purchasedby\" : [\n",
    "                                                {\"cname\" : \"ajay kumar\", \"date\" : \"1-May-2021”},\n",
    "                                                {\"cname\" : \"ravi sharma\", \"date\" : \"2-May-2021”}\n",
    "                                            ]\n",
    "                        }\n",
    "                    );\n",
    "</pre>\n",
    "\n",
    "In this example we want when ever the customer order the product,\n",
    "the availability will be checked, if the stock is available, the balance\n",
    "should be reduced and the customer information should be added in\n",
    "the document.\n",
    "\n",
    "<pre>\n",
    "    db.order.findAndModify({\n",
    "                            query: {\"_id\":1,\"balanceStk\" :{$gt : 0}},\n",
    "                            update: {\n",
    "                                $inc: {\"balanceStk\" : -1},\n",
    "                                $push: {\"boughtby\":{\"cname\":\"Gaurav\",\"date\" : Date()}}\n",
    "                            }\n",
    "                          }); \n",
    "</pre>\n"
   ]
  },
  {
   "cell_type": "markdown",
   "id": "800a35fe",
   "metadata": {},
   "source": [
    "<ul>\n",
    "<li><b>findAndModify()</b> – search for the document and modify it.</li>\n",
    "<li><b>query</b>: {} – specify the search criteria</li>\n",
    "<li><b>update</b>: {} – specify the updation in the document</li>\n",
    "<li>$inc : {} - Increments the value of the field by the specified amount.</li>\n",
    "<li><b>$push</b>: {} - Adds an item to an arra</li>\n",
    "</ul>"
   ]
  },
  {
   "cell_type": "markdown",
   "id": "e9217a69",
   "metadata": {},
   "source": [
    "## Referencing\n",
    "\n",
    "Inserting the object Id of one document in another\n",
    "document is known as referencing.\n",
    "\n",
    "<pre>\n",
    "db.emp.find().limit(1).pretty();\n",
    "\n",
    "OUTPUT\n",
    "\n",
    "{\n",
    "        \"_id\" : ObjectId(\"622b3b35ee8169a354a38bd3\"),\n",
    "        \"EID\" : 1003,\n",
    "        \"NAME\" : \"Rajesh Sharma\",\n",
    "        \"ADDRESS\" : \"Sector 11,Dwarka,Delhi\",\n",
    "        \"PHONE\" : NumberLong(\"9999001001\"),\n",
    "        \"EMAIL\" : \"RSharma56@gmail.com\",\n",
    "        \"DOB\" : \"3/16/2001\",\n",
    "        \"DOJ\" : \"4/1/2012\",\n",
    "        \"SAL\" : ObjectId(\"62299c07085a912e3f7c0216\")\n",
    "}\n",
    "\n",
    "db.sal.find({\"EID\":1003}).limit(3).pretty();\n",
    "\n",
    "OUTPUT\n",
    "\n",
    "{\n",
    "        \"_id\" : ObjectId(\"62299c07085a912e3f7c0216\"),\n",
    "        \"EID\" : 1003,\n",
    "        \"DEPT\" : \"ADMIN\",\n",
    "        \"DESI\" : \"SR MANAGER\",\n",
    "        \"SALARY\" : 130748\n",
    "}\n",
    "</pre>"
   ]
  },
  {
   "cell_type": "markdown",
   "id": "b29f8e57",
   "metadata": {},
   "source": [
    "## $lookup  (aggregation):  Melwin its like Joining the Tables in SQL\n",
    "<p>\n",
    "it adds an array of related data from the\n",
    "other document. It perform an equality match between a field from\n",
    "the input documents with a field from the documents of the\n",
    "\"joined\" collection\n",
    "</p>\n",
    "\n"
   ]
  },
  {
   "cell_type": "raw",
   "id": "bf2f808e",
   "metadata": {},
   "source": [
    "SYNTAX \n",
    "db.collectionname.aggregate({\n",
    "\n",
    "     $lookup:\n",
    "     {\n",
    "     from: <collection to join>,\n",
    "     localField: <field from the input documents>,\n",
    "     foreignField: <field from the documents of the \"from\" collection>,\n",
    "     as: <output array field>\n",
    "     }\n",
    "});"
   ]
  },
  {
   "cell_type": "markdown",
   "id": "83f83651",
   "metadata": {},
   "source": [
    "<pre>\n",
    "Example \n",
    "\n",
    "db.emp.aggregate([\n",
    "    {\n",
    "        $lookup:\n",
    "        {\n",
    "            from: \"sal\" ,\n",
    "            localField: \"EID\",\n",
    "            foreignField: \"EID\",\n",
    "            as: \"SalDetails\" \n",
    "        }\n",
    "    }\n",
    "]);\n",
    "\n",
    "output\n",
    "\n",
    "{\n",
    "        \"_id\" : ObjectId(\"622b3b35ee8169a354a38bd3\"),\n",
    "        \"EID\" : 1003,\n",
    "        \"NAME\" : \"Rajesh Sharma\",\n",
    "        \"ADDRESS\" : \"Sector 11,Dwarka,Delhi\",\n",
    "        \"PHONE\" : NumberLong(\"9999001001\"),\n",
    "        \"EMAIL\" : \"RSharma56@gmail.com\",\n",
    "        \"DOB\" : \"3/16/2001\",\n",
    "        \"DOJ\" : \"4/1/2012\",\n",
    "        \"SAL\" : ObjectId(\"62299c07085a912e3f7c0216\"),\n",
    "        \"SalDetails\" : [\n",
    "                {\n",
    "                        \"_id\" : ObjectId(\"62299c07085a912e3f7c0216\"),\n",
    "                        \"EID\" : 1003,\n",
    "                        \"DEPT\" : \"ADMIN\",\n",
    "                        \"DESI\" : \"SR MANAGER\",\n",
    "                        \"SALARY\" : 130748\n",
    "                }\n",
    "        ]\n",
    "}\n",
    "\n",
    "</pre>"
   ]
  },
  {
   "cell_type": "markdown",
   "id": "317cc8e7",
   "metadata": {},
   "source": [
    "## Drivers"
   ]
  },
  {
   "cell_type": "code",
   "execution_count": null,
   "id": "bb0d6c81",
   "metadata": {},
   "outputs": [],
   "source": [
    "https://www.geeksforgeeks.org/mongodb-and-python/"
   ]
  },
  {
   "cell_type": "code",
   "execution_count": 4,
   "id": "fae94d1e",
   "metadata": {
    "scrolled": true
   },
   "outputs": [
    {
     "name": "stdout",
     "output_type": "stream",
     "text": [
      "Collecting pymongo\n",
      "  Downloading pymongo-4.0.2-cp39-cp39-win_amd64.whl (350 kB)\n",
      "Installing collected packages: pymongo\n",
      "Successfully installed pymongo-4.0.2\n"
     ]
    }
   ],
   "source": [
    "! python -m pip install pymongo"
   ]
  },
  {
   "cell_type": "code",
   "execution_count": 1,
   "id": "bde0c42a",
   "metadata": {},
   "outputs": [],
   "source": [
    "from pymongo import MongoClient"
   ]
  },
  {
   "cell_type": "code",
   "execution_count": 2,
   "id": "e45abbcb",
   "metadata": {},
   "outputs": [],
   "source": [
    "from pymongo import MongoClient\n",
    "client = MongoClient()"
   ]
  },
  {
   "cell_type": "code",
   "execution_count": 3,
   "id": "ab4b18d3",
   "metadata": {},
   "outputs": [],
   "source": [
    "host = \"localhost\"\n",
    "port_number = 27017\n",
    "client = MongoClient(host, port_number)"
   ]
  },
  {
   "cell_type": "code",
   "execution_count": 4,
   "id": "3c3d9df2",
   "metadata": {},
   "outputs": [],
   "source": [
    "name_of_the_database = \"learning\"\n",
    "mydatabase = client[name_of_the_database]"
   ]
  },
  {
   "cell_type": "code",
   "execution_count": 5,
   "id": "75c34de6",
   "metadata": {},
   "outputs": [],
   "source": [
    "myTable = \"emp\"\n",
    "mycollection = mydatabase[myTable]"
   ]
  },
  {
   "cell_type": "code",
   "execution_count": 18,
   "id": "b58dda9a",
   "metadata": {},
   "outputs": [
    {
     "name": "stdout",
     "output_type": "stream",
     "text": [
      "Connected successfully!!!\n",
      "{'_id': ObjectId('622b3b35ee8169a354a38bd3'), 'EID': 1003, 'NAME': 'Rajesh Sharma', 'ADDRESS': 'Sector 11,Dwarka,Delhi', 'PHONE': 9999001001, 'EMAIL': 'RSharma56@gmail.com', 'DOB': '3/16/2001', 'DOJ': '4/1/2012', 'SAL': ObjectId('62299c07085a912e3f7c0216')}\n",
      "{'_id': ObjectId('622b3b35ee8169a354a38bd4'), 'EID': 1004, 'NAME': 'Yogeshwar Sharma', 'ADDRESS': 'Sector 11,Dwarka,Delhi', 'PHONE': 8899001001, 'EMAIL': 'YSharma@gmail.com', 'DOB': '9/25/1989', 'DOJ': '5/10/2012'}\n",
      "{'_id': ObjectId('622b3b35ee8169a354a38bd5'), 'EID': 1005, 'NAME': 'Manoj Kumar', 'ADDRESS': 'B320,Janakpuri,Delhi', 'PHONE': 9999912399, 'EMAIL': 'mKumar@gmail.com', 'DOB': '7/1/1985', 'DOJ': '11/7/2012'}\n",
      "{'_id': ObjectId('622b3b35ee8169a354a38bd6'), 'EID': 1001, 'NAME': 'RAMESH GUPTA', 'ADDRESS': 'SECTOR 7,Rohini,Gurgaon', 'PHONE': 9999002727, 'EMAIL': 'RK@YAHOO.CO.IN', 'DOB': '9/1/1990', 'DOJ': '3/15/2012', 'SAL': ObjectId('62299c07085a912e3f7c0215')}\n",
      "{'_id': ObjectId('622b3b35ee8169a354a38bd7'), 'EID': 1007, 'NAME': 'Kapil Sharma', 'ADDRESS': 'Jay Maa Apartments Flat 32,Sector 72,Gurgaon', 'PHONE': 9999001099, 'EMAIL': 'kSharma@gmail.com', 'DOB': '9/28/1987', 'DOJ': '5/10/2012'}\n",
      "{'_id': ObjectId('622b3b35ee8169a354a38bd8'), 'EID': 1008, 'NAME': 'Archna Sharma', 'ADDRESS': '5C Karanpur,NP Road,Dehradun', 'PHONE': 9899249700, 'EMAIL': 'ASharma@gmail.com', 'DOB': '5/10/1985', 'DOJ': '1/1/2013'}\n",
      "{'_id': ObjectId('622b3b35ee8169a354a38bd9'), 'EID': 1009, 'NAME': 'Ranjeeta Goyal', 'ADDRESS': 'Flat No 6A,Rajpur Road,Dehradun', 'PHONE': 9999002700, 'EMAIL': 'rgoyal@gmail.com', 'DOB': '12/31/1989', 'DOJ': '2/10/2013'}\n",
      "{'_id': ObjectId('622b3b35ee8169a354a38bda'), 'EID': 1010, 'NAME': 'Komal Singh', 'ADDRESS': 'Sector 64,Old Gurgaon Road,Gurgaon', 'PHONE': 7285912349, 'EMAIL': 'ksing@gmail.com', 'DOB': '3/31/1990', 'DOJ': '5/10/2013'}\n",
      "{'_id': ObjectId('622b3b35ee8169a354a38bdb'), 'EID': 1011, 'NAME': 'AMIT KAPOOR', 'ADDRESS': 'B2/45 DDA FLATS,JANAKPURI,DELHI', 'PHONE': 989970701, 'EMAIL': 'RK2@GMAIL.COM', 'DOB': '1/1/1992', 'DOJ': '1/4/2015'}\n",
      "{'_id': ObjectId('622b3b35ee8169a354a38bdc'), 'EID': 1012, 'NAME': 'MONIKA ARORA', 'ADDRESS': 'B1/45,JANAKPURI,DELHI', 'PHONE': 999999234, 'EMAIL': 'MA@GMAIL.COM', 'DOB': '1/1/1982', 'DOJ': '1/4/2015'}\n",
      "{'_id': ObjectId('622b3b35ee8169a354a38bdd'), 'EID': 1013, 'NAME': 'ROHAN KUMAR', 'ADDRESS': 'B305,RAJOURI GARDEN,DELHI', 'PHONE': 9811098110, 'EMAIL': 'RK@GMAIL.COM', 'DOB': '10/10/1998', 'DOJ': '1/4/2016'}\n",
      "{'_id': ObjectId('622b3b35ee8169a354a38bde'), 'EID': 1006, 'NAME': 'Rohit Gupta', 'ADDRESS': 'A32/620 Main Road,Sector 56,Noida', 'PHONE': 8899001123, 'EMAIL': 'rgupta@gmail.com', 'DOB': '3/31/1992', 'DOJ': '5/10/2012'}\n",
      "{'_id': ObjectId('622b3b35ee8169a354a38bdf'), 'EID': 1014, 'NAME': 'RAJAT KUMAR', 'ADDRESS': 'HNO-B205,SECTOR 62,NOIDA', 'PHONE': 9811098115, 'EMAIL': 'RAJATK@GMAIL.COM', 'DOB': '10/10/1998', 'DOJ': '1/4/2016'}\n",
      "{'_id': ObjectId('622b3b35ee8169a354a38be0'), 'EID': 1002, 'NAME': 'Sandeep Sharma', 'ADDRESS': 'SECTOR 2,PALAM,GURGAON', 'PHONE': 9567890010, 'EMAIL': 'SAM1@YAHOO.COM', 'DOB': '9/15/1995', 'DOJ': '3/15/2012'}\n",
      "{'_id': ObjectId('622b3b35ee8169a354a38be1'), 'EID': 1015, 'NAME': 'ABHISHEK SHARMA', 'ADDRESS': 'C2-101,JANAKPURI,DELHI', 'PHONE': 9898989800, 'EMAIL': 'AB@GMAIL.COM', 'DOB': '10/11/1982', 'DOJ': '3/5/2018'}\n",
      "{'_id': ObjectId('622b3b35ee8169a354a38be2'), 'EID': 1020, 'NAME': 'Rohan Kumar', 'ADDRESS': 'B-256,RAJOURIGARDEN,DELHI', 'PHONE': 9898999987, 'EMAIL': 'RKUMAR@GMAIL.COM', 'DOB': '10/10/1989', 'DOJ': '1/2/2017'}\n",
      "{'_id': ObjectId('622b3b35ee8169a354a38be3'), 'EID': 1019, 'NAME': 'RAJAT KAPOOR', 'ADDRESS': 'B501/1 POCKET 1,JANAKPURI,DELHI', 'PHONE': 9899256570, 'EMAIL': 'RJT@YAHOO.CO.IN', 'DOB': '10/11/1983', 'DOJ': '3/1/2018'}\n",
      "{'_id': ObjectId('622b3b35ee8169a354a38be4'), 'EID': 1021, 'NAME': 'Lalit Sharma', 'ADDRESS': 'C2-401,Janak Puri,DELHI', 'PHONE': 9898999989, 'EMAIL': 'ls@GMAIL.COM', 'DOB': '10/12/1989', 'DOJ': '1/2/2017'}\n",
      "{'_id': ObjectId('622b3b35ee8169a354a38be5'), 'EID': 1022, 'NAME': 'Monika Bajaj', 'ADDRESS': 'DLF,Phase 5,GURGAON', 'PHONE': 9898101089, 'EMAIL': 'MBAJAJ@GMAIL.COM', 'DOB': '10/12/1992', 'DOJ': '1/2/2016'}\n",
      "{'_id': ObjectId('622b3b35ee8169a354a38be6'), 'EID': 1023, 'NAME': 'Devender Kapoor', 'ADDRESS': 'E102/3 Pocket 1 Sector 3,Dwarka,Delhi', 'PHONE': 9899346907, 'EMAIL': 'dk@yahoo.co.in', 'DOB': '10/10/1982', 'DOJ': '2/25/2018'}\n",
      "{'_id': ObjectId('622b3b35ee8169a354a38be7'), 'EID': 1024, 'NAME': 'Ravinder Kumar', 'ADDRESS': 'B302-Jay Maa Apt,Dwarka,Delhi', 'PHONE': 9899768756, 'EMAIL': 'rk@yahoo.com', 'DOB': '10/10/1985', 'DOJ': '10/10/2018'}\n",
      "{'_id': ObjectId('622b3b35ee8169a354a38be8'), 'EID': 1025, 'NAME': 'GAURAV GUPTA', 'ADDRESS': 'D41-Jay Maa Apt,Dwarka,Delhi', 'PHONE': 9899768788, 'EMAIL': 'gk@yahoo.co.in', 'DOB': '12/10/1987', 'DOJ': '10/15/2018'}\n",
      "{'_id': ObjectId('622b3b35ee8169a354a38be9'), 'EID': 1026, 'NAME': 'David', 'ADDRESS': 'M121/4,Vatika Tower,Gurgaon', 'PHONE': 9999999988, 'EMAIL': 'dd@gmail.com', 'DOB': '12/17/1987', 'DOJ': '10/16/2018'}\n",
      "{'_id': ObjectId('622b3b35ee8169a354a38bea'), 'EID': 1027, 'NAME': 'KONIKA KAPOOR', 'ADDRESS': 'C2-431,SUPERTECH,NOIDA', 'PHONE': 8888909970, 'EMAIL': 'KK@YAHOO.CO.IN', 'DOB': '10/10/1980', 'DOJ': '1/6/2018'}\n",
      "{'_id': ObjectId('622b3b35ee8169a354a38beb'), 'EID': 1028, 'NAME': 'RAJAT SHARMA', 'ADDRESS': 'SECTOR 11 , POCKET 2,ABCD,DELHI', 'PHONE': 9999999987, 'EMAIL': 'RS@GMAIL.COM', 'DOB': '1/14/1989', 'DOJ': '1/1/2019'}\n",
      "{'_id': ObjectId('622b3b35ee8169a354a38bec'), 'EID': 1029, 'NAME': 'ROHIT KAPOOR', 'ADDRESS': '450 DLF ,PHASE 2,GURGAON', 'PHONE': 8880008800, 'EMAIL': 'RS01@GMAIL.COM', 'DOB': '10/10/1988', 'DOJ': '4/3/2017'}\n",
      "{'_id': ObjectId('622b3b35ee8169a354a38bed'), 'EID': 1030, 'NAME': 'KONIKA SHARMA', 'ADDRESS': 'DDA SFS FLAT,POCKET 2,DELHI', 'PHONE': 999900880, 'EMAIL': 'KS@YAHOO.CO.IN', 'DOB': '10/10/1990', 'DOJ': '4/3/2017'}\n",
      "{'_id': ObjectId('622b3b35ee8169a354a38bee'), 'EID': 1031, 'NAME': 'AVIKANT GUPTA', 'ADDRESS': 'B-305 ,DLF PHASE 2,GURGAON', 'PHONE': 9999009876, 'EMAIL': 'AG30@GMAIL.COM', 'DOB': '10/10/1989', 'DOJ': '4/10/2018'}\n",
      "{'_id': ObjectId('622b3b35ee8169a354a38bef'), 'EID': 1032, 'NAME': 'ROSHANLAL TIWARI', 'ADDRESS': '1024 ,PALAM VIHAR 2,GURGAON', 'PHONE': 9999000099, 'EMAIL': 'RT31@YAHOO.CO.IN', 'DOB': '10/5/1989', 'DOJ': '4/10/2018'}\n",
      "{'_id': ObjectId('622b3b35ee8169a354a38bf0'), 'EID': 1033, 'NAME': 'MONIKA KAPOOR', 'ADDRESS': 'A401 PRAGYA APARTMENTS,DWARKA SEC 3,DELHI', 'PHONE': 9900000212, 'EMAIL': 'MK32@YAHOO.CO.IN', 'DOB': '1/1/1992', 'DOJ': '4/12/2018'}\n",
      "{'_id': ObjectId('622b3b35ee8169a354a38bf1'), 'EID': 1034, 'NAME': 'ANJAN SINGH', 'ADDRESS': 'A212/5 ,PALAM VIHAR 5,GURGAON', 'PHONE': 9912340090, 'EMAIL': 'AS32@YAHOO.COM', 'DOB': '10/7/1989', 'DOJ': '4/12/2018'}\n",
      "{'_id': ObjectId('622b3b35ee8169a354a38bf2'), 'EID': 1035, 'NAME': 'MANOJ TIWARI', 'ADDRESS': 'B-402,PALAM VIHAR -2,GURGAON', 'PHONE': 9999999087, 'EMAIL': 'MT34@YAHOO.CO.IN', 'DOB': '10/5/1990', 'DOJ': '12/12/2018'}\n",
      "{'_id': ObjectId('622b3b35ee8169a354a38bf3'), 'EID': 1036, 'NAME': 'ROBERT', 'ADDRESS': '267,UDYOG VIHAR 2,GURGAON', 'PHONE': 9999000011, 'EMAIL': 'RBT@YAHOO.CO.IN', 'DOB': '10/15/1989', 'DOJ': '12/12/2018'}\n",
      "{'_id': ObjectId('622b3b35ee8169a354a38bf4'), 'EID': 1037, 'NAME': 'MIKE', 'ADDRESS': 'C2-141,VASANT VIHAR,DELHI', 'PHONE': 8800000078, 'EMAIL': 'MIKE@YAHOO.COM', 'DOB': '10/21/1989', 'DOJ': '12/12/2018'}\n",
      "{'_id': ObjectId('622b3b35ee8169a354a38bf5'), 'EID': 1038, 'NAME': 'RAJAT MAHAJAN', 'ADDRESS': 'B321 POCKET 1,SECTOR 62,NOIDA', 'PHONE': 9899654540, 'EMAIL': 'RM@YAHOO.CO.IN', 'DOB': '12/4/1991', 'DOJ': '1/1/2019'}\n",
      "{'_id': ObjectId('622b3b35ee8169a354a38bf6'), 'EID': 1039, 'NAME': 'ROHIT GUPTA', 'ADDRESS': '4219 POCKET 2,SECTOR 15,NOIDA', 'PHONE': 9899600041, 'EMAIL': 'rg@YAHOO.CO.IN', 'DOB': '12/5/1991', 'DOJ': '1/1/2019'}\n",
      "{'_id': ObjectId('622b3b35ee8169a354a38bf7'), 'EID': 1040, 'NAME': 'SAMEER SHARMA', 'ADDRESS': 'B401 JYA MAA APT,SECTOR 5 DWARKA,DELHI', 'PHONE': 9899600099, 'EMAIL': 'SS@GMAIL.COM', 'DOB': '1/1/1990', 'DOJ': '1/2/2019'}\n",
      "{'_id': ObjectId('622b3b35ee8169a354a38bf8'), 'EID': 1041, 'NAME': 'DEEPANKAR SHARMA', 'ADDRESS': '302/2 ,RAJPUR ROAD,DEHRADUN', 'PHONE': 9999008987, 'EMAIL': 'DS@GMAIL.COM', 'DOB': '4/5/1991', 'DOJ': '1/4/2019'}\n",
      "{'_id': ObjectId('622b3b35ee8169a354a38bf9'), 'EID': 1042, 'NAME': 'AKHILESH MUNJAL', 'ADDRESS': 'B101 ,PACHIM VIHAR,DELHI', 'PHONE': 9999008111, 'EMAIL': 'AM@GMAIL.COM', 'DOB': '5/5/1991', 'DOJ': '1/4/2019'}\n",
      "{'_id': ObjectId('622b3b35ee8169a354a38bfa'), 'EID': 1043, 'NAME': 'GAGAN KAPOOR', 'ADDRESS': 'C2/15,JANAK PURI,DELHI', 'PHONE': 9877687657, 'EMAIL': 'GK@GMAIL.COM', 'DOB': '10/10/1989', 'DOJ': '1/10/2001'}\n",
      "{'_id': ObjectId('622b3b35ee8169a354a38bfb'), 'EID': 1044, 'NAME': 'GAGAN KAPOOR', 'ADDRESS': 'C2/15,PALAM VIHAR,GURGAON', 'PHONE': 9877000657, 'EMAIL': 'GK01@GMAIL.COM', 'DOB': '10/10/1991', 'DOJ': '1/10/2001'}\n",
      "{'_id': ObjectId('622b3b35ee8169a354a38bfc'), 'EID': 1045, 'NAME': 'RAJAT SHARMA', 'ADDRESS': 'A101,RAJPUR ROAD,DEHRADUN', 'PHONE': 9888786540, 'EMAIL': 'RS@EMAIL.COM', 'DOB': '5/10/1991', 'DOJ': '2/2/2019'}\n",
      "{'_id': ObjectId('622b3b35ee8169a354a38bfd'), 'EID': 1046, 'NAME': 'KOMAL KAPOOR', 'ADDRESS': 'B2-101 ,SECTOR 62,NOIDA', 'PHONE': 9888221140, 'EMAIL': 'KK@GMAIL.COM', 'DOB': '12/10/1991', 'DOJ': '2/2/2019'}\n",
      "{'_id': ObjectId('622b3b35ee8169a354a38bfe'), 'EID': 1048, 'NAME': 'MOHIT SHARMA', 'ADDRESS': 'A4/32,SECTOR 16,NOIDA', 'PHONE': 9111000567, 'EMAIL': 'MS01@GMAIL.COM', 'DOB': '5/12/1992', 'DOJ': '5/2/2019'}\n",
      "{'_id': ObjectId('622b3b35ee8169a354a38bff'), 'EID': 1050, 'NAME': 'ABHAS KUMAR SHARMA', 'ADDRESS': 'A61,SECTOR 2,NOIDA', 'PHONE': 7677567690, 'EMAIL': 'AS50@YAHOO.CO.IN', 'DOB': '1/1/1997', 'DOJ': '6/6/2019'}\n",
      "{'_id': ObjectId('622b3b35ee8169a354a38c00'), 'EID': 1055, 'NAME': 'ASHUTOSH KUMAR', 'ADDRESS': 'B2/204,JANAK PURI WEST,DELHI', 'PHONE': 9991111170, 'EMAIL': 'AK55@OUTLOOK.COM', 'DOB': '10/1/1998', 'DOJ': '8/8/2019'}\n",
      "{'_id': ObjectId('622b3b35ee8169a354a38c01'), 'EID': 1052, 'NAME': 'MAHENDER SINGH', 'ADDRESS': 'B62 ,SECTOR 2,NOIDA', 'PHONE': 9899099098, 'EMAIL': 'MS52@OUTLOOK.COM', 'DOB': '1/4/1984', 'DOJ': '7/7/2019'}\n",
      "{'_id': ObjectId('622b3b35ee8169a354a38c02'), 'EID': 1051, 'NAME': 'RONITA', 'ADDRESS': 'C4/104,JANAK PURI,DELHI', 'PHONE': 767756111, 'EMAIL': 'RONI@YAHOO.CO.IN', 'DOB': '1/1/1999', 'DOJ': '6/7/2019'}\n",
      "{'_id': ObjectId('622b3b35ee8169a354a38c03'), 'EID': 1053, 'NAME': 'Ainul', 'ADDRESS': 'DLF PHASE 2,SECTOR 5,GURGAON ', 'PHONE': 9818009010, 'EMAIL': 'AI53@OUTLOOK.COM', 'DOB': '1/4/1980', 'DOJ': '7/8/2019'}\n",
      "{'_id': ObjectId('622b3b35ee8169a354a38c04'), 'EID': 1056, 'NAME': 'RAJEEV SHARMA', 'ADDRESS': 'B203 STREET NO 6,RAJEDER NAGAR ,DEHRADUN', 'PHONE': 9787756760, 'EMAIL': 'RS56@OUTLOOK.COM', 'DOB': '12/12/1998', 'DOJ': '9/9/2019'}\n",
      "{'_id': ObjectId('622b3b35ee8169a354a38c05'), 'EID': 1054, 'NAME': 'RANJITA SHARMA', 'ADDRESS': 'POCKET 2,SECTOR 13 DWARKA,DELHI', 'PHONE': 9999898870, 'EMAIL': 'RA54@OUTLOOK.COM', 'DOB': '10/1/1998', 'DOJ': '8/8/2019'}\n",
      "{'_id': ObjectId('622b3b35ee8169a354a38c06'), 'EID': 1057, 'NAME': 'ABHINAV GHOSH', 'ADDRESS': 'HNO 305,SECTOR 15,DEHRADUN', 'PHONE': 9787777700, 'EMAIL': 'AG57@OUTLOOK.COM', 'DOB': '1/1/1998', 'DOJ': '9/9/2019'}\n",
      "{'_id': ObjectId('622b3b35ee8169a354a38c07'), 'EID': 1058, 'NAME': 'PUMMY SINGH', 'ADDRESS': 'TEACHERS COLONY,SECTOR 17,CHANDIGARH', 'PHONE': 9899675470, 'EMAIL': 'PUM58@OUTLOOK.COM', 'DOB': '1/1/1999', 'DOJ': '9/9/2019'}\n",
      "{'_id': ObjectId('622b3b35ee8169a354a38c08'), 'EID': 1059, 'NAME': 'AMAN MUDGAL', 'ADDRESS': 'B502 - POLICE COLONY,PRETAMPURA,DELHI', 'PHONE': 9999787860, 'EMAIL': 'AM59@GMAIL.COM', 'DOB': '10/10/1989', 'DOJ': '12/12/2019'}\n",
      "{'_id': ObjectId('622b3b35ee8169a354a38c09'), 'EID': 1060, 'NAME': 'GAURAV GUPTA', 'ADDRESS': 'HOUSE NO  305,RAJENDER PARK,DEHRADUN', 'PHONE': 9999008989, 'EMAIL': 'GG61@GMAIL.COM', 'DOB': '1/1/1987', 'DOJ': '12/12/2019'}\n",
      "{'_id': ObjectId('622b3b35ee8169a354a38c0a'), 'EID': 1061, 'NAME': 'RAGHUVEER SINGH', 'ADDRESS': 'B72/3 TEACHERS COLONY,SECTOR 25,CHANDIGARH', 'PHONE': 9899787870, 'EMAIL': 'RS61@OUTLOOK.COM', 'DOB': '10/1/1997', 'DOJ': '12/12/2019'}\n",
      "{'_id': ObjectId('622b3b35ee8169a354a38c0b'), 'EID': 1062, 'NAME': 'ABHISHEK KUMAR', 'ADDRESS': '4231,DLF PHASE 3,GURGAON', 'PHONE': 9899781111, 'EMAIL': 'AK62@OUTLOOK.COM', 'DOB': '12/3/1999', 'DOJ': '12/15/2019'}\n",
      "{'_id': ObjectId('622b3b35ee8169a354a38c0c'), 'EID': 1047, 'NAME': 'MANIK NARULA', 'ADDRESS': 'B301,SECTOR 2,NOIDA', 'PHONE': 9888767567, 'EMAIL': 'MN@GMAIL.COM', 'DOB': '1/15/1992', 'DOJ': '2/2/2019'}\n",
      "{'_id': ObjectId('622b3b35ee8169a354a38c0d'), 'EID': 1064, 'NAME': 'RAJ KUMAR', 'ADDRESS': 'HNO 120 LANE 6,SECTOR 12,CHANDIGARH', 'PHONE': 9899898980, 'EMAIL': 'RK64@GMAIL.COM', 'DOB': '12/12/1989', 'DOJ': '12/20/2019'}\n",
      "{'_id': ObjectId('622b3b35ee8169a354a38c0e'), 'EID': 1063, 'NAME': 'GAGAN KAPOOR', 'ADDRESS': '256 UDYOUG VIGAR,SECTOR 12,GURGAON', 'PHONE': 9999808070, 'EMAIL': 'GK63@OUTLOOK.COM', 'DOB': '10/10/1998', 'DOJ': '12/21/2019'}\n",
      "{'_id': ObjectId('622b3b35ee8169a354a38c0f'), 'EID': 1065, 'NAME': 'SANDEEP SHARMA', 'ADDRESS': 'SECTOR 32,GEETA COLONY,CHANDIGARH', 'PHONE': 9899898970, 'EMAIL': 'SS065@GMAIL.COM', 'DOB': '12/25/1989', 'DOJ': '12/25/2019'}\n",
      "{'_id': ObjectId('622b3b35ee8169a354a38c10'), 'EID': 1066, 'NAME': 'ABHISHEK BHIST', 'ADDRESS': 'HNO 420, SIDDHARTH COLONY,GORE GAON,MUMBAI', 'PHONE': 9899898909, 'EMAIL': 'AB66@OUTLOOK.COM', 'DOB': '1/1/1998', 'DOJ': '12/26/2019'}\n",
      "{'_id': ObjectId('622b3b35ee8169a354a38c11'), 'EID': 1049, 'NAME': 'RAVINDER KAPOOR', 'ADDRESS': 'B302 PRAGYA APT,SECTOR 2 DWARKA,DELHI ', 'PHONE': 9111000111, 'EMAIL': 'RK01@GMAIL.COM', 'DOB': '12/12/1994', 'DOJ': '5/6/2019'}\n"
     ]
    }
   ],
   "source": [
    "\n",
    "from pymongo import MongoClient\n",
    "  \n",
    "try:\n",
    "    conn = MongoClient()\n",
    "    print(\"Connected successfully!!!\")\n",
    "except:  \n",
    "    print(\"Could not connect to MongoDB\")\n",
    "  \n",
    "# database name: mydatabase\n",
    "db = conn.learning\n",
    "  \n",
    "# Created or Switched to collection names: myTable\n",
    "collection = db.emp\n",
    "  \n",
    "# To find() all the entries inside collection name 'myTable'\n",
    "cursor = collection.find()\n",
    "for record in cursor:\n",
    "    print(record)"
   ]
  },
  {
   "cell_type": "markdown",
   "id": "92efa77a",
   "metadata": {},
   "source": [
    "## GridFS"
   ]
  },
  {
   "cell_type": "markdown",
   "id": "d0cc5dcc",
   "metadata": {},
   "source": [
    "GridFS is a frame work to store & access large set of data. It divides\n",
    "the data into chunks and store then into different documents.\n",
    "\n",
    "<ul>\n",
    "    <li>API Provided by MongoDb for storing large files such as audio, video\n",
    "and images.\n",
    "</li>\n",
    "    <li>Package that can be plucked into any application to make storing\n",
    "large files easier</li>\n",
    "    <li>Provides a way for storing large files in database instead of in the file\n",
    "system.</li>\n",
    "</ul>\n",
    "\n",
    "<p><b>Problem: In MongoDB document size is limited to\n",
    "16 MB. </b></p>\n",
    "<p><b>Gridfs Solves the size limitation problem</b></p>\n",
    "\n",
    "<ul>\n",
    "    <li>Breaks the files to smaller managable chunks</li>\n",
    "    <li>Stores these chunks of data in one collection called <b>fs.chunks</b></li>\n",
    "    <li>Stores the information about the whole file itself in another collection called <b>fs.files</b></li>\n",
    "    <li>Connects these documents by properties that are references to each\n",
    "other</li>\n",
    "</ul>"
   ]
  },
  {
   "cell_type": "code",
   "execution_count": null,
   "id": "b7c28896",
   "metadata": {},
   "outputs": [],
   "source": []
  }
 ],
 "metadata": {
  "kernelspec": {
   "display_name": "Python 3 (ipykernel)",
   "language": "python",
   "name": "python3"
  },
  "language_info": {
   "codemirror_mode": {
    "name": "ipython",
    "version": 3
   },
   "file_extension": ".py",
   "mimetype": "text/x-python",
   "name": "python",
   "nbconvert_exporter": "python",
   "pygments_lexer": "ipython3",
   "version": "3.9.7"
  }
 },
 "nbformat": 4,
 "nbformat_minor": 5
}
