{
 "cells": [
  {
   "cell_type": "markdown",
   "id": "26d04759",
   "metadata": {},
   "source": [
    "## Aggregating Documents\n",
    "\n",
    "\n",
    "### Syntax \n",
    "\n",
    "<pre>\n",
    "    db.COLLECTION_NAME.aggregate([AGGREGATE_OPERATION])\n",
    "</pre>\n",
    "\n",
    "Example\n",
    "\n",
    "<pre>\n",
    "    db.sal.aggregate([{$group: {_id: \"$DEPT\", TC: {$sum: \"$SALARY\"}}}])\n",
    "    \n",
    "    Output:\n",
    "    { \"_id\" : \"TEMP\", \"TC\" : 835000 }\n",
    "    { \"_id\" : \"mis\", \"TC\" : 153767 }\n",
    "    { \"_id\" : \"OPS\", \"TC\" : 2269422 }\n",
    "    { \"_id\" : \"HR\", \"TC\" : 1129662 }\n",
    "    { \"_id\" : \"IT\", \"TC\" : 393511 }\n",
    "    { \"_id\" : \"ADMIN\", \"TC\" : 657798 }\n",
    "    \n",
    "</pre>\n",
    "\n",
    "<pre>\n",
    "    db.salary.aggregate(\n",
    "                            [\n",
    "                            {$group :\n",
    "                                {\n",
    "                                 _id : \"$DEPT\",\n",
    "                                 TotalCost :{$sum : \"$SALARY\"},\n",
    "                                 Avgsal :{$avg : \"$SALARY\"},\n",
    "                                 Minsal :{$min : \"$SALARY\"},\n",
    "                                 Maxsal :{$max : \"$SALARY\"}\n",
    "                                }\n",
    "                            }]\n",
    "                        ); \n",
    "                        \n",
    "    Output:\n",
    "    \n",
    "    { \"_id\" : \"HR\", \"TotalCost\" : 1129662, \"Avgsal\" : 125518, \"Minsal\" : 51500, \"Maxsal\" : 298918 }\n",
    "    { \"_id\" : \"mis\", \"TotalCost\" : 153767, \"Avgsal\" : 153767, \"Minsal\" : 153767, \"Maxsal\" : 153767 }\n",
    "    { \"_id\" : \"IT\", \"TotalCost\" : 393511, \"Avgsal\" : 65585.16666666667, \"Minsal\" : 44650, \"Maxsal\" : 111461 }\n",
    "    { \"_id\" : \"ADMIN\", \"TotalCost\" : 657798, \"Avgsal\" : 73088.66666666667, \"Minsal\" : 47000, \"Maxsal\" : 130748 }\n",
    "    { \"_id\" : \"TEMP\", \"TotalCost\" : 835000, \"Avgsal\" : 139166.66666666666, \"Minsal\" : 50000, \"Maxsal\" : 520000 }\n",
    "    { \"_id\" : \"OPS\", \"TotalCost\" : 2269422, \"Avgsal\" : 151294.8, \"Minsal\" : 55000, \"Maxsal\" : \"NULL\" }\n",
    "</pre>"
   ]
  },
  {
   "cell_type": "markdown",
   "id": "0170f5d4",
   "metadata": {},
   "source": [
    "## Atomic Operations\n",
    "To maintain atomicity it is recommended to keep all the related information\n",
    "which is updated together in a single embedded Document.\n",
    "\n",
    "<pre>\n",
    "    db.order.Insert(\n",
    "                        {\n",
    "                            \"_id\" : 1,\n",
    "                            \"pdesc\" : \"Dell Mouse\",\n",
    "                            \"category\" : \"IT\" ,\n",
    "                            \"Totalstk\": 10,\n",
    "                            \"balanceStk\" : 8,\n",
    "                            “purchasedby\" : [\n",
    "                                                {\"cname\" : \"ajay kumar\", \"date\" : \"1-May-2021”},\n",
    "                                                {\"cname\" : \"ravi sharma\", \"date\" : \"2-May-2021”}\n",
    "                                            ]\n",
    "                        }\n",
    "                    );\n",
    "</pre>\n",
    "\n",
    "In this example we want when ever the customer order the product,\n",
    "the availability will be checked, if the stock is available, the balance\n",
    "should be reduced and the customer information should be added in\n",
    "the document.\n",
    "\n",
    "<pre>\n",
    "    db.order.findAndModify({\n",
    "                            query: {\"_id\":1,\"balanceStk\" :{$gt : 0}},\n",
    "                            update: {\n",
    "                                $inc: {\"balanceStk\" : -1},\n",
    "                                $push: {\"boughtby\":{\"cname\":\"Gaurav\",\"date\" : Date()}}\n",
    "                            }\n",
    "                          }); \n",
    "</pre>\n"
   ]
  },
  {
   "cell_type": "markdown",
   "id": "800a35fe",
   "metadata": {},
   "source": [
    "<ul>\n",
    "<li><b>findAndModify()</b> – search for the document and modify it.</li>\n",
    "<li><b>query</b>: {} – specify the search criteria</li>\n",
    "<li><b>update</b>: {} – specify the updation in the document</li>\n",
    "<li>$inc : {} - Increments the value of the field by the specified amount.</li>\n",
    "<li><b>$push</b>: {} - Adds an item to an arra</li>\n",
    "</ul>"
   ]
  },
  {
   "cell_type": "markdown",
   "id": "e9217a69",
   "metadata": {},
   "source": [
    "## Referencing\n",
    "\n",
    "Inserting the object Id of one document in another\n",
    "document is known as referencing.\n",
    "\n",
    "<pre>\n",
    "db.emp.find().limit(1).pretty();\n",
    "\n",
    "OUTPUT\n",
    "\n",
    "{\n",
    "        \"_id\" : ObjectId(\"622b3b35ee8169a354a38bd3\"),\n",
    "        \"EID\" : 1003,\n",
    "        \"NAME\" : \"Rajesh Sharma\",\n",
    "        \"ADDRESS\" : \"Sector 11,Dwarka,Delhi\",\n",
    "        \"PHONE\" : NumberLong(\"9999001001\"),\n",
    "        \"EMAIL\" : \"RSharma56@gmail.com\",\n",
    "        \"DOB\" : \"3/16/2001\",\n",
    "        \"DOJ\" : \"4/1/2012\",\n",
    "        \"SAL\" : ObjectId(\"62299c07085a912e3f7c0216\")\n",
    "}\n",
    "\n",
    "db.sal.find({\"EID\":1003}).limit(3).pretty();\n",
    "\n",
    "OUTPUT\n",
    "\n",
    "{\n",
    "        \"_id\" : ObjectId(\"62299c07085a912e3f7c0216\"),\n",
    "        \"EID\" : 1003,\n",
    "        \"DEPT\" : \"ADMIN\",\n",
    "        \"DESI\" : \"SR MANAGER\",\n",
    "        \"SALARY\" : 130748\n",
    "}\n",
    "</pre>"
   ]
  },
  {
   "cell_type": "markdown",
   "id": "b29f8e57",
   "metadata": {},
   "source": [
    "## $lookup  (aggregation):  Melwin its like Joining the Tables in SQL\n",
    "<p>\n",
    "it adds an array of related data from the\n",
    "other document. It perform an equality match between a field from\n",
    "the input documents with a field from the documents of the\n",
    "\"joined\" collection\n",
    "</p>\n",
    "\n"
   ]
  },
  {
   "cell_type": "raw",
   "id": "bf2f808e",
   "metadata": {},
   "source": [
    "SYNTAX \n",
    "db.collectionname.aggregate({\n",
    "\n",
    "     $lookup:\n",
    "     {\n",
    "     from: <collection to join>,\n",
    "     localField: <field from the input documents>,\n",
    "     foreignField: <field from the documents of the \"from\" collection>,\n",
    "     as: <output array field>\n",
    "     }\n",
    "});"
   ]
  },
  {
   "cell_type": "markdown",
   "id": "83f83651",
   "metadata": {},
   "source": [
    "<pre>\n",
    "Example \n",
    "\n",
    "db.emp.aggregate([\n",
    "    {\n",
    "        $lookup:\n",
    "        {\n",
    "            from: \"sal\" ,\n",
    "            localField: \"EID\",\n",
    "            foreignField: \"EID\",\n",
    "            as: \"SalDetails\" \n",
    "        }\n",
    "    }\n",
    "]);\n",
    "\n",
    "output\n",
    "\n",
    "{\n",
    "        \"_id\" : ObjectId(\"622b3b35ee8169a354a38bd3\"),\n",
    "        \"EID\" : 1003,\n",
    "        \"NAME\" : \"Rajesh Sharma\",\n",
    "        \"ADDRESS\" : \"Sector 11,Dwarka,Delhi\",\n",
    "        \"PHONE\" : NumberLong(\"9999001001\"),\n",
    "        \"EMAIL\" : \"RSharma56@gmail.com\",\n",
    "        \"DOB\" : \"3/16/2001\",\n",
    "        \"DOJ\" : \"4/1/2012\",\n",
    "        \"SAL\" : ObjectId(\"62299c07085a912e3f7c0216\"),\n",
    "        \"SalDetails\" : [\n",
    "                {\n",
    "                        \"_id\" : ObjectId(\"62299c07085a912e3f7c0216\"),\n",
    "                        \"EID\" : 1003,\n",
    "                        \"DEPT\" : \"ADMIN\",\n",
    "                        \"DESI\" : \"SR MANAGER\",\n",
    "                        \"SALARY\" : 130748\n",
    "                }\n",
    "        ]\n",
    "}\n",
    "\n",
    "</pre>"
   ]
  },
  {
   "cell_type": "markdown",
   "id": "317cc8e7",
   "metadata": {},
   "source": [
    "## Drivers"
   ]
  },
  {
   "cell_type": "code",
   "execution_count": 4,
   "id": "fae94d1e",
   "metadata": {},
   "outputs": [
    {
     "name": "stdout",
     "output_type": "stream",
     "text": [
      "Collecting pymongo\n",
      "  Downloading pymongo-4.0.2-cp39-cp39-win_amd64.whl (350 kB)\n",
      "Installing collected packages: pymongo\n",
      "Successfully installed pymongo-4.0.2\n"
     ]
    }
   ],
   "source": [
    "! python -m pip install pymongo"
   ]
  },
  {
   "cell_type": "code",
   "execution_count": null,
   "id": "bde0c42a",
   "metadata": {},
   "outputs": [],
   "source": [
    "Drivers"
   ]
  }
 ],
 "metadata": {
  "kernelspec": {
   "display_name": "Python 3 (ipykernel)",
   "language": "python",
   "name": "python3"
  },
  "language_info": {
   "codemirror_mode": {
    "name": "ipython",
    "version": 3
   },
   "file_extension": ".py",
   "mimetype": "text/x-python",
   "name": "python",
   "nbconvert_exporter": "python",
   "pygments_lexer": "ipython3",
   "version": "3.9.7"
  }
 },
 "nbformat": 4,
 "nbformat_minor": 5
}
